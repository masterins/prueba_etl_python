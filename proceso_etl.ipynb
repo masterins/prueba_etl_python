{
 "cells": [
  {
   "cell_type": "code",
   "execution_count": 1,
   "metadata": {},
   "outputs": [
    {
     "data": {
      "text/plain": [
       "polars.config.Config"
      ]
     },
     "execution_count": 1,
     "metadata": {},
     "output_type": "execute_result"
    }
   ],
   "source": [
    "import polars as pl\n",
    "from polars import Config\n",
    "Config.set_fmt_str_lengths(100)"
   ]
  },
  {
   "cell_type": "code",
   "execution_count": 4,
   "metadata": {},
   "outputs": [
    {
     "data": {
      "text/html": [
       "<div><style>\n",
       ".dataframe > thead > tr,\n",
       ".dataframe > tbody > tr {\n",
       "  text-align: right;\n",
       "  white-space: pre-wrap;\n",
       "}\n",
       "</style>\n",
       "<small>shape: (9_206, 4)</small><table border=\"1\" class=\"dataframe\"><thead><tr><th>column_1</th><th>column_2</th><th>column_3</th><th>column_4</th></tr><tr><td>str</td><td>str</td><td>str</td><td>i64</td></tr></thead><tbody><tr><td>&quot;WO0000004122687&quot;</td><td>&quot;Cerrado&quot;</td><td>&quot;1/06/2022&quot;</td><td>3</td></tr><tr><td>&quot;WO0000004122649&quot;</td><td>&quot;Cerrado&quot;</td><td>&quot;1/06/2022&quot;</td><td>3</td></tr><tr><td>&quot;WO0000004122502&quot;</td><td>&quot;Cerrado&quot;</td><td>&quot;1/06/2022&quot;</td><td>3</td></tr><tr><td>&quot;WO0000004122513&quot;</td><td>&quot;Cerrado&quot;</td><td>&quot;1/06/2022&quot;</td><td>3</td></tr><tr><td>&quot;WO0000004122741&quot;</td><td>&quot;Cerrado&quot;</td><td>&quot;1/06/2022&quot;</td><td>3</td></tr><tr><td>&hellip;</td><td>&hellip;</td><td>&hellip;</td><td>&hellip;</td></tr><tr><td>&quot;WO0000004848619&quot;</td><td>&quot;Cerrado&quot;</td><td>&quot;31/12/2022&quot;</td><td>3</td></tr><tr><td>&quot;WO0000004848666&quot;</td><td>&quot;Cerrado&quot;</td><td>&quot;31/12/2022&quot;</td><td>3</td></tr><tr><td>&quot;WO0000004848654&quot;</td><td>&quot;Cerrado&quot;</td><td>&quot;31/12/2022&quot;</td><td>3</td></tr><tr><td>&quot;WO0000004849355&quot;</td><td>&quot;Cerrado&quot;</td><td>&quot;31/12/2022&quot;</td><td>3</td></tr><tr><td>&quot;WO0000004848638&quot;</td><td>&quot;Cerrado&quot;</td><td>&quot;31/12/2022&quot;</td><td>3</td></tr></tbody></table></div>"
      ],
      "text/plain": [
       "shape: (9_206, 4)\n",
       "┌─────────────────┬──────────┬────────────┬──────────┐\n",
       "│ column_1        ┆ column_2 ┆ column_3   ┆ column_4 │\n",
       "│ ---             ┆ ---      ┆ ---        ┆ ---      │\n",
       "│ str             ┆ str      ┆ str        ┆ i64      │\n",
       "╞═════════════════╪══════════╪════════════╪══════════╡\n",
       "│ WO0000004122687 ┆ Cerrado  ┆ 1/06/2022  ┆ 3        │\n",
       "│ WO0000004122649 ┆ Cerrado  ┆ 1/06/2022  ┆ 3        │\n",
       "│ WO0000004122502 ┆ Cerrado  ┆ 1/06/2022  ┆ 3        │\n",
       "│ WO0000004122513 ┆ Cerrado  ┆ 1/06/2022  ┆ 3        │\n",
       "│ WO0000004122741 ┆ Cerrado  ┆ 1/06/2022  ┆ 3        │\n",
       "│ …               ┆ …        ┆ …          ┆ …        │\n",
       "│ WO0000004848619 ┆ Cerrado  ┆ 31/12/2022 ┆ 3        │\n",
       "│ WO0000004848666 ┆ Cerrado  ┆ 31/12/2022 ┆ 3        │\n",
       "│ WO0000004848654 ┆ Cerrado  ┆ 31/12/2022 ┆ 3        │\n",
       "│ WO0000004849355 ┆ Cerrado  ┆ 31/12/2022 ┆ 3        │\n",
       "│ WO0000004848638 ┆ Cerrado  ┆ 31/12/2022 ┆ 3        │\n",
       "└─────────────────┴──────────┴────────────┴──────────┘"
      ]
     },
     "execution_count": 4,
     "metadata": {},
     "output_type": "execute_result"
    }
   ],
   "source": [
    "pl.read_csv('./Tickets/SinEncabezado.txt',has_header=False,separator=';')"
   ]
  },
  {
   "cell_type": "code",
   "execution_count": 9,
   "metadata": {},
   "outputs": [],
   "source": [
    "se=pl.read_csv('./Tickets/SinEncabezado.txt',has_header=False,separator=';',\n",
    "            schema={\n",
    "                \"idticket\":pl.Utf8,\n",
    "                \"estado\":pl.Utf8,\n",
    "                \"fecha creacion\":pl.Date,\n",
    "                \"clasificacion\":pl.Int64\n",
    "            },\n",
    "            ignore_errors=True\n",
    "            )\n"
   ]
  },
  {
   "cell_type": "code",
   "execution_count": 10,
   "metadata": {},
   "outputs": [
    {
     "data": {
      "text/html": [
       "<div><style>\n",
       ".dataframe > thead > tr,\n",
       ".dataframe > tbody > tr {\n",
       "  text-align: right;\n",
       "  white-space: pre-wrap;\n",
       "}\n",
       "</style>\n",
       "<small>shape: (9_206, 4)</small><table border=\"1\" class=\"dataframe\"><thead><tr><th>idticket</th><th>estado</th><th>fecha creacion</th><th>clasificacion</th></tr><tr><td>str</td><td>str</td><td>date</td><td>i64</td></tr></thead><tbody><tr><td>&quot;WO0000004122687&quot;</td><td>&quot;Cerrado&quot;</td><td>2022-06-01</td><td>3</td></tr><tr><td>&quot;WO0000004122649&quot;</td><td>&quot;Cerrado&quot;</td><td>2022-06-01</td><td>3</td></tr><tr><td>&quot;WO0000004122502&quot;</td><td>&quot;Cerrado&quot;</td><td>2022-06-01</td><td>3</td></tr><tr><td>&quot;WO0000004122513&quot;</td><td>&quot;Cerrado&quot;</td><td>2022-06-01</td><td>3</td></tr><tr><td>&quot;WO0000004122741&quot;</td><td>&quot;Cerrado&quot;</td><td>2022-06-01</td><td>3</td></tr><tr><td>&hellip;</td><td>&hellip;</td><td>&hellip;</td><td>&hellip;</td></tr><tr><td>&quot;WO0000004848619&quot;</td><td>&quot;Cerrado&quot;</td><td>2022-12-31</td><td>3</td></tr><tr><td>&quot;WO0000004848666&quot;</td><td>&quot;Cerrado&quot;</td><td>2022-12-31</td><td>3</td></tr><tr><td>&quot;WO0000004848654&quot;</td><td>&quot;Cerrado&quot;</td><td>2022-12-31</td><td>3</td></tr><tr><td>&quot;WO0000004849355&quot;</td><td>&quot;Cerrado&quot;</td><td>2022-12-31</td><td>3</td></tr><tr><td>&quot;WO0000004848638&quot;</td><td>&quot;Cerrado&quot;</td><td>2022-12-31</td><td>3</td></tr></tbody></table></div>"
      ],
      "text/plain": [
       "shape: (9_206, 4)\n",
       "┌─────────────────┬─────────┬────────────────┬───────────────┐\n",
       "│ idticket        ┆ estado  ┆ fecha creacion ┆ clasificacion │\n",
       "│ ---             ┆ ---     ┆ ---            ┆ ---           │\n",
       "│ str             ┆ str     ┆ date           ┆ i64           │\n",
       "╞═════════════════╪═════════╪════════════════╪═══════════════╡\n",
       "│ WO0000004122687 ┆ Cerrado ┆ 2022-06-01     ┆ 3             │\n",
       "│ WO0000004122649 ┆ Cerrado ┆ 2022-06-01     ┆ 3             │\n",
       "│ WO0000004122502 ┆ Cerrado ┆ 2022-06-01     ┆ 3             │\n",
       "│ WO0000004122513 ┆ Cerrado ┆ 2022-06-01     ┆ 3             │\n",
       "│ WO0000004122741 ┆ Cerrado ┆ 2022-06-01     ┆ 3             │\n",
       "│ …               ┆ …       ┆ …              ┆ …             │\n",
       "│ WO0000004848619 ┆ Cerrado ┆ 2022-12-31     ┆ 3             │\n",
       "│ WO0000004848666 ┆ Cerrado ┆ 2022-12-31     ┆ 3             │\n",
       "│ WO0000004848654 ┆ Cerrado ┆ 2022-12-31     ┆ 3             │\n",
       "│ WO0000004849355 ┆ Cerrado ┆ 2022-12-31     ┆ 3             │\n",
       "│ WO0000004848638 ┆ Cerrado ┆ 2022-12-31     ┆ 3             │\n",
       "└─────────────────┴─────────┴────────────────┴───────────────┘"
      ]
     },
     "execution_count": 10,
     "metadata": {},
     "output_type": "execute_result"
    }
   ],
   "source": [
    "se"
   ]
  },
  {
   "cell_type": "code",
   "execution_count": 11,
   "metadata": {},
   "outputs": [
    {
     "data": {
      "text/html": [
       "<div><style>\n",
       ".dataframe > thead > tr,\n",
       ".dataframe > tbody > tr {\n",
       "  text-align: right;\n",
       "  white-space: pre-wrap;\n",
       "}\n",
       "</style>\n",
       "<small>shape: (5, 4)</small><table border=\"1\" class=\"dataframe\"><thead><tr><th>column_1</th><th>column_2</th><th>column_3</th><th>column_4</th></tr><tr><td>str</td><td>str</td><td>str</td><td>i64</td></tr></thead><tbody><tr><td>&quot;WO0000004122687&quot;</td><td>&quot;Cerrado&quot;</td><td>&quot;1/06/2022&quot;</td><td>3</td></tr><tr><td>&quot;WO0000004122649&quot;</td><td>&quot;Cerrado&quot;</td><td>&quot;1/06/2022&quot;</td><td>3</td></tr><tr><td>&quot;WO0000004122502&quot;</td><td>&quot;Cerrado&quot;</td><td>&quot;1/06/2022&quot;</td><td>3</td></tr><tr><td>&quot;WO0000004122513&quot;</td><td>&quot;Cerrado&quot;</td><td>&quot;1/06/2022&quot;</td><td>3</td></tr><tr><td>&quot;WO0000004122741&quot;</td><td>&quot;Cerrado&quot;</td><td>&quot;1/06/2022&quot;</td><td>3</td></tr></tbody></table></div>"
      ],
      "text/plain": [
       "shape: (5, 4)\n",
       "┌─────────────────┬──────────┬───────────┬──────────┐\n",
       "│ column_1        ┆ column_2 ┆ column_3  ┆ column_4 │\n",
       "│ ---             ┆ ---      ┆ ---       ┆ ---      │\n",
       "│ str             ┆ str      ┆ str       ┆ i64      │\n",
       "╞═════════════════╪══════════╪═══════════╪══════════╡\n",
       "│ WO0000004122687 ┆ Cerrado  ┆ 1/06/2022 ┆ 3        │\n",
       "│ WO0000004122649 ┆ Cerrado  ┆ 1/06/2022 ┆ 3        │\n",
       "│ WO0000004122502 ┆ Cerrado  ┆ 1/06/2022 ┆ 3        │\n",
       "│ WO0000004122513 ┆ Cerrado  ┆ 1/06/2022 ┆ 3        │\n",
       "│ WO0000004122741 ┆ Cerrado  ┆ 1/06/2022 ┆ 3        │\n",
       "└─────────────────┴──────────┴───────────┴──────────┘"
      ]
     },
     "execution_count": 11,
     "metadata": {},
     "output_type": "execute_result"
    }
   ],
   "source": [
    "se1=pl.read_csv('./Tickets/SinEncabezado.txt',has_header=False,separator=';')\n",
    "se1.head()"
   ]
  },
  {
   "cell_type": "code",
   "execution_count": 27,
   "metadata": {},
   "outputs": [],
   "source": [
    "se1=se1.rename({\n",
    "    'column_1':'idticket',\n",
    "    'column_2':'estado',\n",
    "    'column_3':'fecha_creacion',\n",
    "    'column_4':'clasificacion'\n",
    "})"
   ]
  },
  {
   "cell_type": "code",
   "execution_count": 28,
   "metadata": {},
   "outputs": [
    {
     "data": {
      "text/html": [
       "<div><style>\n",
       ".dataframe > thead > tr,\n",
       ".dataframe > tbody > tr {\n",
       "  text-align: right;\n",
       "  white-space: pre-wrap;\n",
       "}\n",
       "</style>\n",
       "<small>shape: (5, 4)</small><table border=\"1\" class=\"dataframe\"><thead><tr><th>idticket</th><th>estado</th><th>fecha_creacion</th><th>clasificacion</th></tr><tr><td>str</td><td>str</td><td>str</td><td>i64</td></tr></thead><tbody><tr><td>&quot;WO0000004122687&quot;</td><td>&quot;Cerrado&quot;</td><td>&quot;1/06/2022&quot;</td><td>3</td></tr><tr><td>&quot;WO0000004122649&quot;</td><td>&quot;Cerrado&quot;</td><td>&quot;1/06/2022&quot;</td><td>3</td></tr><tr><td>&quot;WO0000004122502&quot;</td><td>&quot;Cerrado&quot;</td><td>&quot;1/06/2022&quot;</td><td>3</td></tr><tr><td>&quot;WO0000004122513&quot;</td><td>&quot;Cerrado&quot;</td><td>&quot;1/06/2022&quot;</td><td>3</td></tr><tr><td>&quot;WO0000004122741&quot;</td><td>&quot;Cerrado&quot;</td><td>&quot;1/06/2022&quot;</td><td>3</td></tr></tbody></table></div>"
      ],
      "text/plain": [
       "shape: (5, 4)\n",
       "┌─────────────────┬─────────┬────────────────┬───────────────┐\n",
       "│ idticket        ┆ estado  ┆ fecha_creacion ┆ clasificacion │\n",
       "│ ---             ┆ ---     ┆ ---            ┆ ---           │\n",
       "│ str             ┆ str     ┆ str            ┆ i64           │\n",
       "╞═════════════════╪═════════╪════════════════╪═══════════════╡\n",
       "│ WO0000004122687 ┆ Cerrado ┆ 1/06/2022      ┆ 3             │\n",
       "│ WO0000004122649 ┆ Cerrado ┆ 1/06/2022      ┆ 3             │\n",
       "│ WO0000004122502 ┆ Cerrado ┆ 1/06/2022      ┆ 3             │\n",
       "│ WO0000004122513 ┆ Cerrado ┆ 1/06/2022      ┆ 3             │\n",
       "│ WO0000004122741 ┆ Cerrado ┆ 1/06/2022      ┆ 3             │\n",
       "└─────────────────┴─────────┴────────────────┴───────────────┘"
      ]
     },
     "execution_count": 28,
     "metadata": {},
     "output_type": "execute_result"
    }
   ],
   "source": [
    "se1.with_columns(\n",
    "    pl.col('fecha_creacion').str.to_date('%d/%m/%Y')\n",
    ")\n",
    "se1.head()"
   ]
  },
  {
   "cell_type": "code",
   "execution_count": 29,
   "metadata": {},
   "outputs": [
    {
     "data": {
      "text/html": [
       "<div><style>\n",
       ".dataframe > thead > tr,\n",
       ".dataframe > tbody > tr {\n",
       "  text-align: right;\n",
       "  white-space: pre-wrap;\n",
       "}\n",
       "</style>\n",
       "<small>shape: (5, 4)</small><table border=\"1\" class=\"dataframe\"><thead><tr><th>idticket</th><th>estado</th><th>fecha_creacion</th><th>clasificacion</th></tr><tr><td>str</td><td>str</td><td>str</td><td>i64</td></tr></thead><tbody><tr><td>&quot;WO0000004122687&quot;</td><td>&quot;Cerrado&quot;</td><td>&quot;1/06/2022&quot;</td><td>3</td></tr><tr><td>&quot;WO0000004122649&quot;</td><td>&quot;Cerrado&quot;</td><td>&quot;1/06/2022&quot;</td><td>3</td></tr><tr><td>&quot;WO0000004122502&quot;</td><td>&quot;Cerrado&quot;</td><td>&quot;1/06/2022&quot;</td><td>3</td></tr><tr><td>&quot;WO0000004122513&quot;</td><td>&quot;Cerrado&quot;</td><td>&quot;1/06/2022&quot;</td><td>3</td></tr><tr><td>&quot;WO0000004122741&quot;</td><td>&quot;Cerrado&quot;</td><td>&quot;1/06/2022&quot;</td><td>3</td></tr></tbody></table></div>"
      ],
      "text/plain": [
       "shape: (5, 4)\n",
       "┌─────────────────┬─────────┬────────────────┬───────────────┐\n",
       "│ idticket        ┆ estado  ┆ fecha_creacion ┆ clasificacion │\n",
       "│ ---             ┆ ---     ┆ ---            ┆ ---           │\n",
       "│ str             ┆ str     ┆ str            ┆ i64           │\n",
       "╞═════════════════╪═════════╪════════════════╪═══════════════╡\n",
       "│ WO0000004122687 ┆ Cerrado ┆ 1/06/2022      ┆ 3             │\n",
       "│ WO0000004122649 ┆ Cerrado ┆ 1/06/2022      ┆ 3             │\n",
       "│ WO0000004122502 ┆ Cerrado ┆ 1/06/2022      ┆ 3             │\n",
       "│ WO0000004122513 ┆ Cerrado ┆ 1/06/2022      ┆ 3             │\n",
       "│ WO0000004122741 ┆ Cerrado ┆ 1/06/2022      ┆ 3             │\n",
       "└─────────────────┴─────────┴────────────────┴───────────────┘"
      ]
     },
     "execution_count": 29,
     "metadata": {},
     "output_type": "execute_result"
    }
   ],
   "source": [
    "se1.head()"
   ]
  }
 ],
 "metadata": {
  "kernelspec": {
   "display_name": "vEdicion2",
   "language": "python",
   "name": "python3"
  },
  "language_info": {
   "codemirror_mode": {
    "name": "ipython",
    "version": 3
   },
   "file_extension": ".py",
   "mimetype": "text/x-python",
   "name": "python",
   "nbconvert_exporter": "python",
   "pygments_lexer": "ipython3",
   "version": "3.12.3"
  }
 },
 "nbformat": 4,
 "nbformat_minor": 2
}
